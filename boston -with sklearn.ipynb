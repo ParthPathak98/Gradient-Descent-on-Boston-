{
 "cells": [
  {
   "cell_type": "code",
   "execution_count": null,
   "metadata": {},
   "outputs": [],
   "source": []
  },
  {
   "cell_type": "code",
   "execution_count": 22,
   "metadata": {},
   "outputs": [],
   "source": [
    "import numpy as np\n",
    "\n",
    "data=np.genfromtxt('training_boston_x_y_train.csv',delimiter=',')\n",
    "x_train=data[:,0:13]\n",
    "y_train=data[:,13]\n",
    "\n",
    "\n",
    "data1=np.genfromtxt('test_boston_x_test.csv',delimiter=',')\n",
    "x_test=data1[:,0:13]\n",
    "\n",
    "from sklearn import ensemble\n",
    "algo=ensemble.GradientBoostingRegressor(learning_rate=0.16,n_estimators=25000)\n",
    "algo.fit(x_train,y_train)\n",
    "\n",
    "y_pred=algo.predict(x_test)\n",
    "\n",
    "y_t_pred=algo.predict(x_train)\n",
    "y_test_pred=pred=np.around(y_pred,decimals=5)\n",
    "np.savetxt(\"y_test_boston_pred.csv\",y_pred)\n",
    "\n"
   ]
  }
 ],
 "metadata": {
  "kernelspec": {
   "display_name": "Python 3",
   "language": "python",
   "name": "python3"
  },
  "language_info": {
   "codemirror_mode": {
    "name": "ipython",
    "version": 3
   },
   "file_extension": ".py",
   "mimetype": "text/x-python",
   "name": "python",
   "nbconvert_exporter": "python",
   "pygments_lexer": "ipython3",
   "version": "3.6.4"
  }
 },
 "nbformat": 4,
 "nbformat_minor": 2
}
