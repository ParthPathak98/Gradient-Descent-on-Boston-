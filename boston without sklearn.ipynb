{
 "cells": [
  {
   "cell_type": "code",
   "execution_count": 1,
   "metadata": {},
   "outputs": [],
   "source": [
    "import numpy as np "
   ]
  },
  {
   "cell_type": "code",
   "execution_count": 27,
   "metadata": {},
   "outputs": [],
   "source": [
    "# import pandas as pd                                   Not needed"
   ]
  },
  {
   "cell_type": "code",
   "execution_count": 2,
   "metadata": {},
   "outputs": [],
   "source": [
    "def step_gd(x, y , learning_rate , m):\n",
    "    m_slope = np.zeros(len(m))                   #number of elemnts in m_slope will be same as number of elements in m\n",
    "    M =len(x)\n",
    "    for i in range(len(m)):                      #outer loop will be over array m and not number of data points\n",
    "        for j in range(M):                       #Inner loop will be over data points\n",
    "            xj = x[j, :]                         #choosing x of jth data point\n",
    "            yj = y[j]                            # chhosing y of jth data point\n",
    "            m_slope[i]+=(2/M)*(yj- m.dot(xj))*xj[i]                #dot product is used for matrix multiplication, dont use loop for that \n",
    "        new_m = m - learning_rate*m_slope                            #update all values of m simultaneously\n",
    "    return new_m\n"
   ]
  },
  {
   "cell_type": "code",
   "execution_count": 3,
   "metadata": {},
   "outputs": [],
   "source": [
    "def gd(x, y , learning_rate , iterations):\n",
    "#     m = 0                         Here m will be an array (length will be same as number of columns in x) not a single number \n",
    "    m = np.zeros(len(x[0]))         #Initializing m as an array with all zeros\n",
    "    for i in range(iterations):\n",
    "        m = step_gd(x, y , learning_rate, m)\n",
    "    return m"
   ]
  },
  {
   "cell_type": "code",
   "execution_count": 4,
   "metadata": {},
   "outputs": [],
   "source": [
    "def pred(x2 , m):\n",
    "    y_pred = np.dot(x2,m)\n",
    "    \n",
    "    return y_pred\n",
    "\n",
    "    "
   ]
  },
  {
   "cell_type": "code",
   "execution_count": 8,
   "metadata": {},
   "outputs": [],
   "source": [
    "def run():\n",
    "    data = np.loadtxt(\"0000000000002417_training_boston_x_y_train.csv\" , delimiter=\",\")\n",
    "    test_data = np.loadtxt('0000000000002417_test_boston_x_test.csv' , delimiter=\",\")\n",
    "#     learning_rate = 0.0001\n",
    "    learning_rate = -0.1\n",
    "    iterations = 100\n",
    "#     x = data[:,0:14]\n",
    "    x = data[:, 0:13]\n",
    "    y = data[:,13]\n",
    "    x1 = np.insert(x, len(x[0]), values = 1, axis = 1)\n",
    "#     z = test_data[:,0:13]                               No need as test data contains only x not y\n",
    "    x2 = np.insert(test_data, len(test_data[0]), values = 1, axis = 1)\n",
    "\n",
    "    \n",
    "#     m = gd(data , learning_rate , iterations,x1,y)        Now we have separate x and y, pass those to gd function\n",
    "    m = gd(x1, y, learning_rate , iterations)\n",
    "    \n",
    "    y_pred = pred(x2 , m)\n",
    "    np.savetxt(\"pred1.csv\",y_pred, '%.5f', delimiter=\",\")           #to store values upto 5 decimal places, '%.5f'\n",
    "    print(m)"
   ]
  },
  {
   "cell_type": "code",
   "execution_count": 9,
   "metadata": {},
   "outputs": [
    {
     "name": "stdout",
     "output_type": "stream",
     "text": [
      "[-0.90123085  0.64469871 -0.19650066  0.80238633 -2.07703901  2.39698211\n",
      "  0.09640491 -2.8992826   2.05232765 -1.16833159 -2.22295196  0.58092984\n",
      " -4.25492114 22.67687788]\n"
     ]
    }
   ],
   "source": [
    "run()\n"
   ]
  }
 ],
 "metadata": {
  "kernelspec": {
   "display_name": "Python 3",
   "language": "python",
   "name": "python3"
  },
  "language_info": {
   "codemirror_mode": {
    "name": "ipython",
    "version": 3
   },
   "file_extension": ".py",
   "mimetype": "text/x-python",
   "name": "python",
   "nbconvert_exporter": "python",
   "pygments_lexer": "ipython3",
   "version": "3.6.4"
  }
 },
 "nbformat": 4,
 "nbformat_minor": 2
}
